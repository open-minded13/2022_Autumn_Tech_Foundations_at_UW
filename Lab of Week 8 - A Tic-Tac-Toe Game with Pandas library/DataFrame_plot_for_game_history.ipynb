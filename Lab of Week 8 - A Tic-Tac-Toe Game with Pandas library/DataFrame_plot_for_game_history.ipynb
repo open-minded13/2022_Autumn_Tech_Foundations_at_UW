{
 "cells": [
  {
   "cell_type": "code",
   "execution_count": 125,
   "metadata": {},
   "outputs": [
    {
     "data": {
      "text/html": [
       "<div>\n",
       "<style scoped>\n",
       "    .dataframe tbody tr th:only-of-type {\n",
       "        vertical-align: middle;\n",
       "    }\n",
       "\n",
       "    .dataframe tbody tr th {\n",
       "        vertical-align: top;\n",
       "    }\n",
       "\n",
       "    .dataframe thead th {\n",
       "        text-align: right;\n",
       "    }\n",
       "</style>\n",
       "<table border=\"1\" class=\"dataframe\">\n",
       "  <thead>\n",
       "    <tr style=\"text-align: right;\">\n",
       "      <th></th>\n",
       "      <th>Game ID</th>\n",
       "      <th>Player 1</th>\n",
       "      <th>Player 2</th>\n",
       "      <th>Winner</th>\n",
       "      <th>Player 1 Type</th>\n",
       "      <th>Player 2 Type</th>\n",
       "    </tr>\n",
       "  </thead>\n",
       "  <tbody>\n",
       "    <tr>\n",
       "      <th>0</th>\n",
       "      <td>0</td>\n",
       "      <td>User</td>\n",
       "      <td>Robot</td>\n",
       "      <td>User</td>\n",
       "      <td>Human</td>\n",
       "      <td>Bot</td>\n",
       "    </tr>\n",
       "    <tr>\n",
       "      <th>1</th>\n",
       "      <td>1</td>\n",
       "      <td>User 1</td>\n",
       "      <td>User 2</td>\n",
       "      <td>User 1</td>\n",
       "      <td>Human</td>\n",
       "      <td>Human</td>\n",
       "    </tr>\n",
       "    <tr>\n",
       "      <th>2</th>\n",
       "      <td>2</td>\n",
       "      <td>User</td>\n",
       "      <td>Robot</td>\n",
       "      <td>User</td>\n",
       "      <td>Human</td>\n",
       "      <td>Bot</td>\n",
       "    </tr>\n",
       "    <tr>\n",
       "      <th>3</th>\n",
       "      <td>3</td>\n",
       "      <td>User 1</td>\n",
       "      <td>User 2</td>\n",
       "      <td>User 1</td>\n",
       "      <td>Human</td>\n",
       "      <td>Human</td>\n",
       "    </tr>\n",
       "    <tr>\n",
       "      <th>4</th>\n",
       "      <td>4</td>\n",
       "      <td>User 1</td>\n",
       "      <td>User 2</td>\n",
       "      <td>User 2</td>\n",
       "      <td>Human</td>\n",
       "      <td>Human</td>\n",
       "    </tr>\n",
       "    <tr>\n",
       "      <th>5</th>\n",
       "      <td>5</td>\n",
       "      <td>User</td>\n",
       "      <td>Robot</td>\n",
       "      <td>Robot</td>\n",
       "      <td>Human</td>\n",
       "      <td>Bot</td>\n",
       "    </tr>\n",
       "    <tr>\n",
       "      <th>6</th>\n",
       "      <td>6</td>\n",
       "      <td>User 1</td>\n",
       "      <td>User 2</td>\n",
       "      <td>User 2</td>\n",
       "      <td>Human</td>\n",
       "      <td>Human</td>\n",
       "    </tr>\n",
       "    <tr>\n",
       "      <th>7</th>\n",
       "      <td>7</td>\n",
       "      <td>User</td>\n",
       "      <td>Robot</td>\n",
       "      <td>Robot</td>\n",
       "      <td>Human</td>\n",
       "      <td>Bot</td>\n",
       "    </tr>\n",
       "    <tr>\n",
       "      <th>8</th>\n",
       "      <td>8</td>\n",
       "      <td>User</td>\n",
       "      <td>Robot</td>\n",
       "      <td>Draw</td>\n",
       "      <td>Human</td>\n",
       "      <td>Bot</td>\n",
       "    </tr>\n",
       "    <tr>\n",
       "      <th>9</th>\n",
       "      <td>9</td>\n",
       "      <td>User</td>\n",
       "      <td>Robot</td>\n",
       "      <td>User</td>\n",
       "      <td>Human</td>\n",
       "      <td>Bot</td>\n",
       "    </tr>\n",
       "    <tr>\n",
       "      <th>10</th>\n",
       "      <td>10</td>\n",
       "      <td>User</td>\n",
       "      <td>Robot</td>\n",
       "      <td>User</td>\n",
       "      <td>Human</td>\n",
       "      <td>Bot</td>\n",
       "    </tr>\n",
       "    <tr>\n",
       "      <th>11</th>\n",
       "      <td>11</td>\n",
       "      <td>User</td>\n",
       "      <td>Robot</td>\n",
       "      <td>Robot</td>\n",
       "      <td>Human</td>\n",
       "      <td>Bot</td>\n",
       "    </tr>\n",
       "  </tbody>\n",
       "</table>\n",
       "</div>"
      ],
      "text/plain": [
       "    Game ID Player 1 Player 2  Winner Player 1 Type Player 2 Type\n",
       "0         0     User    Robot    User         Human           Bot\n",
       "1         1   User 1   User 2  User 1         Human         Human\n",
       "2         2     User    Robot    User         Human           Bot\n",
       "3         3   User 1   User 2  User 1         Human         Human\n",
       "4         4   User 1   User 2  User 2         Human         Human\n",
       "5         5     User    Robot   Robot         Human           Bot\n",
       "6         6   User 1   User 2  User 2         Human         Human\n",
       "7         7     User    Robot   Robot         Human           Bot\n",
       "8         8     User    Robot    Draw         Human           Bot\n",
       "9         9     User    Robot    User         Human           Bot\n",
       "10       10     User    Robot    User         Human           Bot\n",
       "11       11     User    Robot   Robot         Human           Bot"
      ]
     },
     "execution_count": 125,
     "metadata": {},
     "output_type": "execute_result"
    }
   ],
   "source": [
    "import pandas as pd\n",
    "import numpy as np\n",
    "\n",
    "filename = 'game_history.csv'\n",
    "\n",
    "try:\n",
    "    game_history = pd.read_csv(filename)\n",
    "except FileNotFoundError:\n",
    "    game_history = pd.DataFrame(columns = [\n",
    "        \"Game ID\",\n",
    "        \"Player 1\",\n",
    "        \"Player 2\",\n",
    "        \"Winner\",\n",
    "        \"Player 1 Type\",\n",
    "        \"Player 2 Type\",   \n",
    "    ])\n",
    "\n",
    "game_history"
   ]
  },
  {
   "attachments": {},
   "cell_type": "markdown",
   "metadata": {},
   "source": [
    "### 1. Generate win rate bars for User 1 and User 2 (human vs human)."
   ]
  },
  {
   "cell_type": "code",
   "execution_count": 126,
   "metadata": {},
   "outputs": [
    {
     "name": "stdout",
     "output_type": "stream",
     "text": [
      "  Human Player  Win Rate\n",
      "0       User 1       0.5\n",
      "1       User 2       0.5\n"
     ]
    },
    {
     "data": {
      "text/plain": [
       "<AxesSubplot:xlabel='Human Player'>"
      ]
     },
     "execution_count": 126,
     "metadata": {},
     "output_type": "execute_result"
    },
    {
     "data": {
      "image/png": "[encoded data removed]",
      "text/plain": [
       "<Figure size 640x480 with 1 Axes>"
      ]
     },
     "metadata": {},
     "output_type": "display_data"
    }
   ],
   "source": [
    "Temp1 = len(game_history[game_history[\"Winner\"] == \"User 1\"])\n",
    "Temp2 = len(game_history[game_history[\"Winner\"] == \"User 2\"])\n",
    "Temp3 = len(game_history[game_history[\"Player 2 Type\"] == \"Human\"])\n",
    "\n",
    "win_rate_of_User1_in_human_vs_human = Temp1 / Temp3\n",
    "win_rate_of_User2_in_human_vs_human = Temp2 / Temp3\n",
    "\n",
    "bar_statistics = pd.DataFrame(columns = [\"Human Player\", \"Win Rate\"])\n",
    "bar_statistics.loc[len(bar_statistics)] = {\"Human Player\": \"User 1\", \"Win Rate\": win_rate_of_User1_in_human_vs_human}\n",
    "bar_statistics.loc[len(bar_statistics)] = {\"Human Player\": \"User 2\", \"Win Rate\": win_rate_of_User2_in_human_vs_human}\n",
    "\n",
    "print(bar_statistics)\n",
    "bar_statistics.plot.bar(x = \"Human Player\", y = \"Win Rate\", rot = 0)"
   ]
  },
  {
   "attachments": {},
   "cell_type": "markdown",
   "metadata": {},
   "source": [
    "### 2. Generate win rate pie chart for User and Robot (human vs bot)."
   ]
  },
  {
   "cell_type": "code",
   "execution_count": 127,
   "metadata": {},
   "outputs": [
    {
     "name": "stdout",
     "output_type": "stream",
     "text": [
      "  Winner  Win Rate\n",
      "0   User     0.500\n",
      "1  Robot     0.375\n",
      "2   Draw     0.125\n"
     ]
    },
    {
     "data": {
      "text/plain": [
       "<AxesSubplot:ylabel='Win Rate'>"
      ]
     },
     "execution_count": 127,
     "metadata": {},
     "output_type": "execute_result"
    },
    {
     "data": {
      "image/png": "[encoded data removed]",
      "text/plain": [
       "<Figure size 640x480 with 1 Axes>"
      ]
     },
     "metadata": {},
     "output_type": "display_data"
    }
   ],
   "source": [
    "Temp1 = len(game_history[game_history[\"Winner\"] == \"User\"])\n",
    "Temp2 = len(game_history[game_history[\"Winner\"] == \"Robot\"])\n",
    "Temp3 = len(game_history[game_history[\"Winner\"] == \"User\"]) + len(game_history[game_history[\"Winner\"] == \"Robot\"]) + len(game_history[game_history[\"Winner\"] == \"Draw\"])\n",
    "\n",
    "win_rate_of_User_in_human_vs_bot = Temp1 / Temp3\n",
    "win_rate_of_Robot_in_human_vs_bot = Temp2 / Temp3\n",
    "draw_rate_in_human_vs_bot = 1 - win_rate_of_User_in_human_vs_bot - win_rate_of_Robot_in_human_vs_bot\n",
    "\n",
    "pie_statistics = pd.DataFrame(columns = [\"Winner\", \"Win Rate\"])\n",
    "pie_statistics.loc[len(pie_statistics)] = {\"Winner\": \"User\", \"Win Rate\": win_rate_of_User_in_human_vs_bot}\n",
    "pie_statistics.loc[len(pie_statistics)] = {\"Winner\": \"Robot\", \"Win Rate\": win_rate_of_Robot_in_human_vs_bot}\n",
    "pie_statistics.loc[len(pie_statistics)] = {\"Winner\": \"Draw\", \"Win Rate\": draw_rate_in_human_vs_bot}\n",
    "\n",
    "print(pie_statistics)\n",
    "pie_statistics.groupby(\"Winner\").sum().plot.pie(y = \"Win Rate\", autopct = \"%1.2f%%\")"
   ]
  },
  {
   "attachments": {},
   "cell_type": "markdown",
   "metadata": {},
   "source": [
    "### 3. Generate the moving win rate of Robot (human vs bot)."
   ]
  },
  {
   "cell_type": "code",
   "execution_count": 128,
   "metadata": {},
   "outputs": [
    {
     "name": "stdout",
     "output_type": "stream",
     "text": [
      "   index  Game ID Player 1 Player 2 Winner Player 1 Type Player 2 Type\n",
      "0      0        0     User    Robot   User         Human           Bot\n",
      "1      2        2     User    Robot   User         Human           Bot\n",
      "2      5        5     User    Robot  Robot         Human           Bot\n",
      "3      7        7     User    Robot  Robot         Human           Bot\n",
      "4      8        8     User    Robot   Draw         Human           Bot\n",
      "5      9        9     User    Robot   User         Human           Bot\n",
      "6     10       10     User    Robot   User         Human           Bot\n",
      "7     11       11     User    Robot  Robot         Human           Bot\n",
      "   Round  Moving Win Rate\n",
      "0      1         0.000000\n",
      "1      2         0.000000\n",
      "2      3         0.333333\n",
      "3      4         0.500000\n",
      "4      5         0.400000\n",
      "5      6         0.333333\n",
      "6      7         0.285714\n",
      "7      8         0.375000\n"
     ]
    },
    {
     "data": {
      "text/plain": [
       "<AxesSubplot:xlabel='Round'>"
      ]
     },
     "execution_count": 128,
     "metadata": {},
     "output_type": "execute_result"
    },
    {
     "data": {
      "image/png": "[encoded data removed]",
      "text/plain": [
       "<Figure size 640x480 with 1 Axes>"
      ]
     },
     "metadata": {},
     "output_type": "display_data"
    }
   ],
   "source": [
    "game_history_of_human_vs_bot = pd.DataFrame(columns = [\n",
    "    \"Game ID\",\n",
    "    \"Player 1\",\n",
    "    \"Player 2\",\n",
    "    \"Winner\",\n",
    "    \"Player 1 Type\",\n",
    "    \"Player 2 Type\",   \n",
    "])\n",
    "\n",
    "game_history_of_human_vs_bot = game_history[game_history[\"Player 2 Type\"] == \"Bot\"]\n",
    "game_history_of_human_vs_bot = game_history_of_human_vs_bot.reset_index()\n",
    "print(game_history_of_human_vs_bot)\n",
    "\n",
    "rolling_statistics = pd.DataFrame(columns = [\"Round\", \"Moving Win Rate\"])\n",
    "count = 0\n",
    "for round in range(len(game_history_of_human_vs_bot)):\n",
    "    if game_history_of_human_vs_bot.loc[round][\"Winner\"] == \"Robot\":\n",
    "        count = count + 1\n",
    "    moving_win_rate = count / (round+1)\n",
    "    rolling_statistics.loc[len(rolling_statistics)] = {\"Round\": round+1, \"Moving Win Rate\": moving_win_rate}\n",
    "\n",
    "print(rolling_statistics)\n",
    "rolling_statistics.plot.line(x = \"Round\", y = \"Moving Win Rate\")"
   ]
  }
 ],
 "metadata": {
  "kernelspec": {
   "display_name": "base",
   "language": "python",
   "name": "python3"
  },
  "language_info": {
   "codemirror_mode": {
    "name": "ipython",
    "version": 3
   },
   "file_extension": ".py",
   "mimetype": "text/x-python",
   "name": "python",
   "nbconvert_exporter": "python",
   "pygments_lexer": "ipython3",
   "version": "3.9.13"
  },
  "orig_nbformat": 4,
  "vscode": {
   "interpreter": {
    "hash": "881340f410f76f49a702bf4c4e69282dbb33d20ee297ea07f38f20c408e2c426"
   }
  }
 },
 "nbformat": 4,
 "nbformat_minor": 2
}
